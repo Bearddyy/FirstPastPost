{
 "cells": [
  {
   "cell_type": "code",
   "execution_count": null,
   "metadata": {},
   "outputs": [],
   "source": [
    "import pandas as pd\n",
    "import geopandas as gpd\n",
    "import matplotlib.pyplot as plt\n",
    "from shapely.geometry import polygon\n",
    "import requests\n",
    "import re"
   ]
  },
  {
   "cell_type": "code",
   "execution_count": null,
   "metadata": {},
   "outputs": [],
   "source": [
    "map_df = gpd.read_file(\"Westminster_Parliamentary_Constituencies_December_2017_Generalised_Clipped_Boundaries_in_the_UK\")"
   ]
  },
  {
   "cell_type": "code",
   "execution_count": null,
   "metadata": {},
   "outputs": [],
   "source": [
    "map_df.head()"
   ]
  },
  {
   "cell_type": "code",
   "execution_count": null,
   "metadata": {},
   "outputs": [],
   "source": [
    "BASE_URL = 'https://www.bbc.co.uk/news/politics/constituencies/'\n",
    "voteExtractor = re.compile(\"ge2019-constituency-result__party-name\\\">(.*)<[\\S\\s]*?ge2019-constituency-result__details-value\\\">(.*)<\")"
   ]
  },
  {
   "cell_type": "code",
   "execution_count": null,
   "metadata": {},
   "outputs": [],
   "source": [
    "import pickle\n",
    "constitData = pickle.load(open(\"constitData.p\", \"rb\"))\n",
    "constitData"
   ]
  },
  {
   "cell_type": "code",
   "execution_count": null,
   "metadata": {},
   "outputs": [],
   "source": [
    "constitData = []\n",
    "for const in map_df['pcon17cd']:\n",
    "    responce = requests.get(BASE_URL + const)\n",
    "    text = responce.text\n",
    "    votes = voteExtractor.findall(text)\n",
    "    constitData.append(votes)\n",
    "    print(map_df[map_df[\"pcon17cd\"] == const]['pcon17nm'],\":\", votes)"
   ]
  },
  {
   "cell_type": "code",
   "execution_count": null,
   "metadata": {},
   "outputs": [],
   "source": [
    "pickle.dump(constitData, open(\"constitData.p\",\"wb\"))"
   ]
  },
  {
   "cell_type": "code",
   "execution_count": null,
   "metadata": {},
   "outputs": [],
   "source": [
    "map_df[\"votes\"] = constitData"
   ]
  },
  {
   "cell_type": "code",
   "execution_count": null,
   "metadata": {},
   "outputs": [],
   "source": [
    "df = pd.DataFrame()"
   ]
  },
  {
   "cell_type": "code",
   "execution_count": null,
   "metadata": {},
   "outputs": [],
   "source": [
    "parties = dict()\n",
    "for result in constitData:\n",
    "    for party in result:\n",
    "        if party[0] not in parties:\n",
    "            parties[party[0]] = 0\n",
    "        parties[party[0]] += int(party[1].replace(\",\",\"\"))"
   ]
  },
  {
   "cell_type": "code",
   "execution_count": null,
   "metadata": {},
   "outputs": [],
   "source": [
    "parties.keys()"
   ]
  },
  {
   "cell_type": "code",
   "execution_count": null,
   "metadata": {},
   "outputs": [],
   "source": [
    "plt.bar(list(parties.keys())[:5], list(parties.values())[:5])"
   ]
  },
  {
   "cell_type": "code",
   "execution_count": null,
   "metadata": {},
   "outputs": [],
   "source": [
    "plt.bar([\"Con + Brexit\", \"Lab + LD + SNP\"], \n",
    "       [parties[\"Conservative\"] + parties[\"The Brexit Party\"],parties[\"Labour\"] + parties[\"Liberal Democrat\"] + parties[\"Scottish National Party\"]] )"
   ]
  },
  {
   "cell_type": "code",
   "execution_count": null,
   "metadata": {},
   "outputs": [],
   "source": [
    "parties[\"Labour\"] + parties[\"Liberal Democrat\"] "
   ]
  },
  {
   "cell_type": "code",
   "execution_count": null,
   "metadata": {},
   "outputs": [],
   "source": [
    "parties[\"Conservative\"]"
   ]
  },
  {
   "cell_type": "code",
   "execution_count": null,
   "metadata": {},
   "outputs": [],
   "source": [
    "c_dict = {\n",
    "    \"Conservative\": \"#0087DC\",\n",
    "    \"Labour\" : \"#DC241f\",\n",
    "    \"Liberal Democrat\": \"#FDBB30\",\n",
    "    \"Scottish National Party\" : \"#FFFF00\",\n",
    "    \"Green\": \"#528D6B\",\n",
    "    \"The Brexit Party\": '#12B6CF',\n",
    "    \"Democratic Unionist Party\": \"#D46A4C\",\n",
    "}"
   ]
  },
  {
   "cell_type": "code",
   "execution_count": null,
   "metadata": {},
   "outputs": [],
   "source": [
    "colours = []\n",
    "for party in parties.keys():\n",
    "    if party in c_dict.keys():\n",
    "        colours.append(c_dict[party])\n",
    "    else:\n",
    "        colours.append(\"#DDDDDD\")"
   ]
  },
  {
   "cell_type": "code",
   "execution_count": null,
   "metadata": {},
   "outputs": [],
   "source": [
    "partySorts = list(zip(parties.keys(),parties.values()))"
   ]
  },
  {
   "cell_type": "code",
   "execution_count": null,
   "metadata": {},
   "outputs": [],
   "source": [
    "def sortSecond(val): \n",
    "    return val[1] \n",
    "\n",
    "partySorts.sort(key=sortSecond, reverse=True)"
   ]
  },
  {
   "cell_type": "code",
   "execution_count": null,
   "metadata": {},
   "outputs": [],
   "source": [
    "colours = []\n",
    "for party in partySorts:\n",
    "    if party[0] in c_dict.keys():\n",
    "        colours.append(c_dict[party[0]])\n",
    "    else:\n",
    "        colours.append(\"#DDDDDD\")"
   ]
  },
  {
   "cell_type": "code",
   "execution_count": null,
   "metadata": {},
   "outputs": [],
   "source": [
    "partiesList,values = map(list,zip(*partySorts))"
   ]
  },
  {
   "cell_type": "code",
   "execution_count": null,
   "metadata": {},
   "outputs": [],
   "source": [
    "noParties = 7\n",
    "lessLabels = partiesList[:noParties]\n",
    "lessLabels.extend([\"\"]*(len(parties)-(noParties+1)))\n",
    "lessLabels.append(\"Other\")"
   ]
  },
  {
   "cell_type": "code",
   "execution_count": null,
   "metadata": {},
   "outputs": [],
   "source": [
    "fig = plt.figure(figsize=(20,10))\n",
    "fig.set_facecolor('azure')\n",
    "fig.suptitle(\"First Past the Post\")\n",
    "\n",
    "plt.subplot(1,2,2)\n",
    "plt.title(\"Vote Share\")\n",
    "plt.pie(values, labels=lessLabels, colors=colours)\n",
    "\n",
    "ax = plt.subplot(1,2,1)\n",
    "plt.title(\"Total Votes\")\n",
    "barlist = plt.bar([\"Con + Brexit\", \"Lab + LD + SNP\"], \n",
    "       [parties[\"Conservative\"] + parties[\"The Brexit Party\"],parties[\"Labour\"] + parties[\"Liberal Democrat\"] + parties[\"Scottish National Party\"]])\n",
    "barlist[0].set_color(\"#0087DC\")\n",
    "barlist[1].set_color(\"#DC241f\")\n",
    "plt.ticklabel_format(axis=\"y\", style=\"plain\")\n",
    "\n",
    "\n",
    "plt.show()"
   ]
  },
  {
   "cell_type": "code",
   "execution_count": null,
   "metadata": {},
   "outputs": [],
   "source": []
  },
  {
   "cell_type": "code",
   "execution_count": null,
   "metadata": {},
   "outputs": [],
   "source": []
  }
 ],
 "metadata": {
  "kernelspec": {
   "display_name": "Python 3",
   "language": "python",
   "name": "python3"
  },
  "language_info": {
   "codemirror_mode": {
    "name": "ipython",
    "version": 3
   },
   "file_extension": ".py",
   "mimetype": "text/x-python",
   "name": "python",
   "nbconvert_exporter": "python",
   "pygments_lexer": "ipython3",
   "version": "3.7.5"
  }
 },
 "nbformat": 4,
 "nbformat_minor": 2
}
